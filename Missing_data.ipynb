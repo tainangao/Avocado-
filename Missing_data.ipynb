{
  "nbformat": 4,
  "nbformat_minor": 0,
  "metadata": {
    "colab": {
      "name": "Missing data",
      "provenance": [],
      "collapsed_sections": [],
      "include_colab_link": true
    },
    "kernelspec": {
      "name": "python3",
      "display_name": "Python 3"
    },
    "accelerator": "GPU"
  },
  "cells": [
    {
      "cell_type": "markdown",
      "metadata": {
        "id": "view-in-github",
        "colab_type": "text"
      },
      "source": [
        "<a href=\"https://colab.research.google.com/github/tainangao/Avocado-/blob/master/Missing_data.ipynb\" target=\"_parent\"><img src=\"https://colab.research.google.com/assets/colab-badge.svg\" alt=\"Open In Colab\"/></a>"
      ]
    },
    {
      "cell_type": "code",
      "metadata": {
        "id": "i_vq1BufEroF",
        "colab_type": "code",
        "colab": {}
      },
      "source": [
        "import pandas as pd\n",
        "import numpy as np"
      ],
      "execution_count": 0,
      "outputs": []
    },
    {
      "cell_type": "code",
      "metadata": {
        "id": "hHB9cv5CmBU5",
        "colab_type": "code",
        "outputId": "315878af-f5f8-42e3-e654-647a1d789bf6",
        "colab": {
          "base_uri": "https://localhost:8080/",
          "height": 34
        }
      },
      "source": [
        "mvc = pd.read_csv('Motor_Vehicle_Collisions_-_Crashes.csv')\n",
        "mvc.shape"
      ],
      "execution_count": 5,
      "outputs": [
        {
          "output_type": "execute_result",
          "data": {
            "text/plain": [
              "(123195, 29)"
            ]
          },
          "metadata": {
            "tags": []
          },
          "execution_count": 5
        }
      ]
    },
    {
      "cell_type": "code",
      "metadata": {
        "id": "DEvYlwS1mBXx",
        "colab_type": "code",
        "outputId": "e76d5255-fd1d-4aa4-d54e-6d8f57981f93",
        "colab": {
          "base_uri": "https://localhost:8080/",
          "height": 479
        }
      },
      "source": [
        "mvc.head()"
      ],
      "execution_count": 6,
      "outputs": [
        {
          "output_type": "execute_result",
          "data": {
            "text/html": [
              "<div>\n",
              "<style scoped>\n",
              "    .dataframe tbody tr th:only-of-type {\n",
              "        vertical-align: middle;\n",
              "    }\n",
              "\n",
              "    .dataframe tbody tr th {\n",
              "        vertical-align: top;\n",
              "    }\n",
              "\n",
              "    .dataframe thead th {\n",
              "        text-align: right;\n",
              "    }\n",
              "</style>\n",
              "<table border=\"1\" class=\"dataframe\">\n",
              "  <thead>\n",
              "    <tr style=\"text-align: right;\">\n",
              "      <th></th>\n",
              "      <th>CRASH DATE</th>\n",
              "      <th>CRASH TIME</th>\n",
              "      <th>BOROUGH</th>\n",
              "      <th>ZIP CODE</th>\n",
              "      <th>LATITUDE</th>\n",
              "      <th>LONGITUDE</th>\n",
              "      <th>LOCATION</th>\n",
              "      <th>ON STREET NAME</th>\n",
              "      <th>CROSS STREET NAME</th>\n",
              "      <th>OFF STREET NAME</th>\n",
              "      <th>NUMBER OF PERSONS INJURED</th>\n",
              "      <th>NUMBER OF PERSONS KILLED</th>\n",
              "      <th>NUMBER OF PEDESTRIANS INJURED</th>\n",
              "      <th>NUMBER OF PEDESTRIANS KILLED</th>\n",
              "      <th>NUMBER OF CYCLIST INJURED</th>\n",
              "      <th>NUMBER OF CYCLIST KILLED</th>\n",
              "      <th>NUMBER OF MOTORIST INJURED</th>\n",
              "      <th>NUMBER OF MOTORIST KILLED</th>\n",
              "      <th>CONTRIBUTING FACTOR VEHICLE 1</th>\n",
              "      <th>CONTRIBUTING FACTOR VEHICLE 2</th>\n",
              "      <th>CONTRIBUTING FACTOR VEHICLE 3</th>\n",
              "      <th>CONTRIBUTING FACTOR VEHICLE 4</th>\n",
              "      <th>CONTRIBUTING FACTOR VEHICLE 5</th>\n",
              "      <th>COLLISION_ID</th>\n",
              "      <th>VEHICLE TYPE CODE 1</th>\n",
              "      <th>VEHICLE TYPE CODE 2</th>\n",
              "      <th>VEHICLE TYPE CODE 3</th>\n",
              "      <th>VEHICLE TYPE CODE 4</th>\n",
              "      <th>VEHICLE TYPE CODE 5</th>\n",
              "    </tr>\n",
              "  </thead>\n",
              "  <tbody>\n",
              "    <tr>\n",
              "      <th>0</th>\n",
              "      <td>06/25/2019</td>\n",
              "      <td>20:30</td>\n",
              "      <td>MANHATTAN</td>\n",
              "      <td>10018.0</td>\n",
              "      <td>40.751080</td>\n",
              "      <td>-73.986860</td>\n",
              "      <td>POINT (-73.98686 40.75108)</td>\n",
              "      <td>WEST 36 STREET</td>\n",
              "      <td>AVENUE OF THE AMERICAS</td>\n",
              "      <td>NaN</td>\n",
              "      <td>0</td>\n",
              "      <td>0.0</td>\n",
              "      <td>0</td>\n",
              "      <td>0</td>\n",
              "      <td>0</td>\n",
              "      <td>0</td>\n",
              "      <td>0</td>\n",
              "      <td>0</td>\n",
              "      <td>Failure to Yield Right-of-Way</td>\n",
              "      <td>Failure to Yield Right-of-Way</td>\n",
              "      <td>NaN</td>\n",
              "      <td>NaN</td>\n",
              "      <td>NaN</td>\n",
              "      <td>4159037</td>\n",
              "      <td>Sedan</td>\n",
              "      <td>Taxi</td>\n",
              "      <td>NaN</td>\n",
              "      <td>NaN</td>\n",
              "      <td>NaN</td>\n",
              "    </tr>\n",
              "    <tr>\n",
              "      <th>1</th>\n",
              "      <td>07/15/2019</td>\n",
              "      <td>9:00</td>\n",
              "      <td>BRONX</td>\n",
              "      <td>10467.0</td>\n",
              "      <td>40.879055</td>\n",
              "      <td>-73.874390</td>\n",
              "      <td>POINT (-73.87439 40.879055)</td>\n",
              "      <td>EAST GUN HILL ROAD</td>\n",
              "      <td>PERRY AVENUE</td>\n",
              "      <td>NaN</td>\n",
              "      <td>0</td>\n",
              "      <td>0.0</td>\n",
              "      <td>0</td>\n",
              "      <td>0</td>\n",
              "      <td>0</td>\n",
              "      <td>0</td>\n",
              "      <td>0</td>\n",
              "      <td>0</td>\n",
              "      <td>Unspecified</td>\n",
              "      <td>NaN</td>\n",
              "      <td>NaN</td>\n",
              "      <td>NaN</td>\n",
              "      <td>NaN</td>\n",
              "      <td>4171027</td>\n",
              "      <td>Station Wagon/Sport Utility Vehicle</td>\n",
              "      <td>NaN</td>\n",
              "      <td>NaN</td>\n",
              "      <td>NaN</td>\n",
              "      <td>NaN</td>\n",
              "    </tr>\n",
              "    <tr>\n",
              "      <th>2</th>\n",
              "      <td>07/03/2019</td>\n",
              "      <td>17:00</td>\n",
              "      <td>BROOKLYN</td>\n",
              "      <td>11212.0</td>\n",
              "      <td>40.657856</td>\n",
              "      <td>-73.903824</td>\n",
              "      <td>POINT (-73.903824 40.657856)</td>\n",
              "      <td>NaN</td>\n",
              "      <td>NaN</td>\n",
              "      <td>843       STONE AVENUE</td>\n",
              "      <td>0</td>\n",
              "      <td>0.0</td>\n",
              "      <td>0</td>\n",
              "      <td>0</td>\n",
              "      <td>0</td>\n",
              "      <td>0</td>\n",
              "      <td>0</td>\n",
              "      <td>0</td>\n",
              "      <td>Passing Too Closely</td>\n",
              "      <td>Unspecified</td>\n",
              "      <td>NaN</td>\n",
              "      <td>NaN</td>\n",
              "      <td>NaN</td>\n",
              "      <td>4164971</td>\n",
              "      <td>Sedan</td>\n",
              "      <td>Station Wagon/Sport Utility Vehicle</td>\n",
              "      <td>NaN</td>\n",
              "      <td>NaN</td>\n",
              "      <td>NaN</td>\n",
              "    </tr>\n",
              "    <tr>\n",
              "      <th>3</th>\n",
              "      <td>07/17/2019</td>\n",
              "      <td>19:08</td>\n",
              "      <td>NaN</td>\n",
              "      <td>NaN</td>\n",
              "      <td>NaN</td>\n",
              "      <td>NaN</td>\n",
              "      <td>NaN</td>\n",
              "      <td>PELHAM PARKWAY SOUTH</td>\n",
              "      <td>EASTCHESTER ROAD</td>\n",
              "      <td>NaN</td>\n",
              "      <td>1</td>\n",
              "      <td>0.0</td>\n",
              "      <td>0</td>\n",
              "      <td>0</td>\n",
              "      <td>0</td>\n",
              "      <td>0</td>\n",
              "      <td>1</td>\n",
              "      <td>0</td>\n",
              "      <td>Reaction to Uninvolved Vehicle</td>\n",
              "      <td>Driver Inattention/Distraction</td>\n",
              "      <td>NaN</td>\n",
              "      <td>NaN</td>\n",
              "      <td>NaN</td>\n",
              "      <td>4172323</td>\n",
              "      <td>Sedan</td>\n",
              "      <td>Sedan</td>\n",
              "      <td>NaN</td>\n",
              "      <td>NaN</td>\n",
              "      <td>NaN</td>\n",
              "    </tr>\n",
              "    <tr>\n",
              "      <th>4</th>\n",
              "      <td>06/25/2019</td>\n",
              "      <td>14:40</td>\n",
              "      <td>STATEN ISLAND</td>\n",
              "      <td>10304.0</td>\n",
              "      <td>40.615204</td>\n",
              "      <td>-74.084656</td>\n",
              "      <td>POINT (-74.084656 40.615204)</td>\n",
              "      <td>TARGEE STREET</td>\n",
              "      <td>VANDERBILT AVENUE</td>\n",
              "      <td>NaN</td>\n",
              "      <td>0</td>\n",
              "      <td>0.0</td>\n",
              "      <td>0</td>\n",
              "      <td>0</td>\n",
              "      <td>0</td>\n",
              "      <td>0</td>\n",
              "      <td>0</td>\n",
              "      <td>0</td>\n",
              "      <td>Unspecified</td>\n",
              "      <td>Unspecified</td>\n",
              "      <td>NaN</td>\n",
              "      <td>NaN</td>\n",
              "      <td>NaN</td>\n",
              "      <td>4168004</td>\n",
              "      <td>Bus</td>\n",
              "      <td>Tractor Truck Diesel</td>\n",
              "      <td>NaN</td>\n",
              "      <td>NaN</td>\n",
              "      <td>NaN</td>\n",
              "    </tr>\n",
              "  </tbody>\n",
              "</table>\n",
              "</div>"
            ],
            "text/plain": [
              "   CRASH DATE CRASH TIME  ... VEHICLE TYPE CODE 4  VEHICLE TYPE CODE 5\n",
              "0  06/25/2019      20:30  ...                 NaN                  NaN\n",
              "1  07/15/2019       9:00  ...                 NaN                  NaN\n",
              "2  07/03/2019      17:00  ...                 NaN                  NaN\n",
              "3  07/17/2019      19:08  ...                 NaN                  NaN\n",
              "4  06/25/2019      14:40  ...                 NaN                  NaN\n",
              "\n",
              "[5 rows x 29 columns]"
            ]
          },
          "metadata": {
            "tags": []
          },
          "execution_count": 6
        }
      ]
    },
    {
      "cell_type": "code",
      "metadata": {
        "id": "yBMFeolOmBaU",
        "colab_type": "code",
        "outputId": "7105a9c5-77b1-42f6-a475-e5a1784e15bb",
        "colab": {
          "base_uri": "https://localhost:8080/",
          "height": 34
        }
      },
      "source": [
        "type(mvc.iloc[0,0])"
      ],
      "execution_count": 7,
      "outputs": [
        {
          "output_type": "execute_result",
          "data": {
            "text/plain": [
              "str"
            ]
          },
          "metadata": {
            "tags": []
          },
          "execution_count": 7
        }
      ]
    },
    {
      "cell_type": "code",
      "metadata": {
        "id": "9BUKUybsmBgY",
        "colab_type": "code",
        "colab": {}
      },
      "source": [
        "import datetime as dt\n"
      ],
      "execution_count": 0,
      "outputs": []
    },
    {
      "cell_type": "code",
      "metadata": {
        "id": "byN0XbbGp6_S",
        "colab_type": "code",
        "colab": {}
      },
      "source": [
        "mvc['CRASH DATE'] = [dt.datetime.strptime(x,'%m/%d/%Y') for x in mvc['CRASH DATE']]\n",
        "mvc['CRASH TIME'] = [dt.datetime.strptime(x, '%H:%M') for x in mvc['CRASH TIME']]"
      ],
      "execution_count": 0,
      "outputs": []
    },
    {
      "cell_type": "code",
      "metadata": {
        "id": "ZPuyVVqpq1b3",
        "colab_type": "code",
        "outputId": "472630b9-df49-4601-ba50-e344f8cd947b",
        "colab": {
          "base_uri": "https://localhost:8080/",
          "height": 34
        }
      },
      "source": [
        "mvc_19 = mvc[mvc['CRASH DATE'].dt.year==2019]\n",
        "mvc_19.shape"
      ],
      "execution_count": 10,
      "outputs": [
        {
          "output_type": "execute_result",
          "data": {
            "text/plain": [
              "(110390, 29)"
            ]
          },
          "metadata": {
            "tags": []
          },
          "execution_count": 10
        }
      ]
    },
    {
      "cell_type": "code",
      "metadata": {
        "id": "nWpnv0w11w2j",
        "colab_type": "code",
        "outputId": "c97a4489-4357-4b3e-864a-b1b4fad40e50",
        "colab": {
          "base_uri": "https://localhost:8080/",
          "height": 221
        }
      },
      "source": [
        "mvc_19.columns"
      ],
      "execution_count": 11,
      "outputs": [
        {
          "output_type": "execute_result",
          "data": {
            "text/plain": [
              "Index(['CRASH DATE', 'CRASH TIME', 'BOROUGH', 'ZIP CODE', 'LATITUDE',\n",
              "       'LONGITUDE', 'LOCATION', 'ON STREET NAME', 'CROSS STREET NAME',\n",
              "       'OFF STREET NAME', 'NUMBER OF PERSONS INJURED',\n",
              "       'NUMBER OF PERSONS KILLED', 'NUMBER OF PEDESTRIANS INJURED',\n",
              "       'NUMBER OF PEDESTRIANS KILLED', 'NUMBER OF CYCLIST INJURED',\n",
              "       'NUMBER OF CYCLIST KILLED', 'NUMBER OF MOTORIST INJURED',\n",
              "       'NUMBER OF MOTORIST KILLED', 'CONTRIBUTING FACTOR VEHICLE 1',\n",
              "       'CONTRIBUTING FACTOR VEHICLE 2', 'CONTRIBUTING FACTOR VEHICLE 3',\n",
              "       'CONTRIBUTING FACTOR VEHICLE 4', 'CONTRIBUTING FACTOR VEHICLE 5',\n",
              "       'COLLISION_ID', 'VEHICLE TYPE CODE 1', 'VEHICLE TYPE CODE 2',\n",
              "       'VEHICLE TYPE CODE 3', 'VEHICLE TYPE CODE 4', 'VEHICLE TYPE CODE 5'],\n",
              "      dtype='object')"
            ]
          },
          "metadata": {
            "tags": []
          },
          "execution_count": 11
        }
      ]
    },
    {
      "cell_type": "code",
      "metadata": {
        "id": "vIN1ZToqPfyC",
        "colab_type": "code",
        "outputId": "8356111f-4ab0-4016-9083-5aa11aac896e",
        "colab": {
          "base_uri": "https://localhost:8080/",
          "height": 170
        }
      },
      "source": [
        "mvc_19.columns = mvc_19.columns.str.lower().str.replace('number of ','').str.replace(' name','').str.replace('contributing factor ','cause ').str.replace('type code ','').str.replace(' ','_')\n",
        "\n",
        "mvc_19.columns"
      ],
      "execution_count": 12,
      "outputs": [
        {
          "output_type": "execute_result",
          "data": {
            "text/plain": [
              "Index(['crash_date', 'crash_time', 'borough', 'zip_code', 'latitude',\n",
              "       'longitude', 'location', 'on_street', 'cross_street', 'off_street',\n",
              "       'persons_injured', 'persons_killed', 'pedestrians_injured',\n",
              "       'pedestrians_killed', 'cyclist_injured', 'cyclist_killed',\n",
              "       'motorist_injured', 'motorist_killed', 'cause_vehicle_1',\n",
              "       'cause_vehicle_2', 'cause_vehicle_3', 'cause_vehicle_4',\n",
              "       'cause_vehicle_5', 'collision_id', 'vehicle_1', 'vehicle_2',\n",
              "       'vehicle_3', 'vehicle_4', 'vehicle_5'],\n",
              "      dtype='object')"
            ]
          },
          "metadata": {
            "tags": []
          },
          "execution_count": 12
        }
      ]
    },
    {
      "cell_type": "code",
      "metadata": {
        "id": "rFYR2494rlPg",
        "colab_type": "code",
        "colab": {}
      },
      "source": [
        "null_counts = mvc_19.isnull().sum()"
      ],
      "execution_count": 0,
      "outputs": []
    },
    {
      "cell_type": "markdown",
      "metadata": {
        "id": "fAz7ogPisrBz",
        "colab_type": "text"
      },
      "source": [
        "To give us a better picture of the null values in the data, let's calculate the percentage of null values in each column. Below, we divide the number of null values in each column by the total number of values in the data set:"
      ]
    },
    {
      "cell_type": "code",
      "metadata": {
        "id": "NmqHuLVAsAox",
        "colab_type": "code",
        "colab": {}
      },
      "source": [
        "null_counts_pct = null_counts / mvc_19.shape[0] * 100"
      ],
      "execution_count": 0,
      "outputs": []
    },
    {
      "cell_type": "markdown",
      "metadata": {
        "id": "i5dMjXE1ssvG",
        "colab_type": "text"
      },
      "source": [
        "We'll then add both the counts and percentages to a dataframe to make them easier to compare:"
      ]
    },
    {
      "cell_type": "code",
      "metadata": {
        "id": "9wWsoAOrsV2q",
        "colab_type": "code",
        "outputId": "a8a01b9e-a5b5-4d83-d934-c43098e5dcd0",
        "colab": {
          "base_uri": "https://localhost:8080/",
          "height": 131
        }
      },
      "source": [
        "null_df = pd.DataFrame({'null_counts': null_counts, 'null_pct': null_counts_pct})\n",
        "null_df = null_df.T.astype(int)\n",
        "\n",
        "null_df"
      ],
      "execution_count": 15,
      "outputs": [
        {
          "output_type": "execute_result",
          "data": {
            "text/html": [
              "<div>\n",
              "<style scoped>\n",
              "    .dataframe tbody tr th:only-of-type {\n",
              "        vertical-align: middle;\n",
              "    }\n",
              "\n",
              "    .dataframe tbody tr th {\n",
              "        vertical-align: top;\n",
              "    }\n",
              "\n",
              "    .dataframe thead th {\n",
              "        text-align: right;\n",
              "    }\n",
              "</style>\n",
              "<table border=\"1\" class=\"dataframe\">\n",
              "  <thead>\n",
              "    <tr style=\"text-align: right;\">\n",
              "      <th></th>\n",
              "      <th>crash_date</th>\n",
              "      <th>crash_time</th>\n",
              "      <th>borough</th>\n",
              "      <th>zip_code</th>\n",
              "      <th>latitude</th>\n",
              "      <th>longitude</th>\n",
              "      <th>location</th>\n",
              "      <th>on_street</th>\n",
              "      <th>cross_street</th>\n",
              "      <th>off_street</th>\n",
              "      <th>persons_injured</th>\n",
              "      <th>persons_killed</th>\n",
              "      <th>pedestrians_injured</th>\n",
              "      <th>pedestrians_killed</th>\n",
              "      <th>cyclist_injured</th>\n",
              "      <th>cyclist_killed</th>\n",
              "      <th>motorist_injured</th>\n",
              "      <th>motorist_killed</th>\n",
              "      <th>cause_vehicle_1</th>\n",
              "      <th>cause_vehicle_2</th>\n",
              "      <th>cause_vehicle_3</th>\n",
              "      <th>cause_vehicle_4</th>\n",
              "      <th>cause_vehicle_5</th>\n",
              "      <th>collision_id</th>\n",
              "      <th>vehicle_1</th>\n",
              "      <th>vehicle_2</th>\n",
              "      <th>vehicle_3</th>\n",
              "      <th>vehicle_4</th>\n",
              "      <th>vehicle_5</th>\n",
              "    </tr>\n",
              "  </thead>\n",
              "  <tbody>\n",
              "    <tr>\n",
              "      <th>null_counts</th>\n",
              "      <td>0</td>\n",
              "      <td>0</td>\n",
              "      <td>39168</td>\n",
              "      <td>39187</td>\n",
              "      <td>9406</td>\n",
              "      <td>9406</td>\n",
              "      <td>9406</td>\n",
              "      <td>26524</td>\n",
              "      <td>56118</td>\n",
              "      <td>83878</td>\n",
              "      <td>0</td>\n",
              "      <td>0</td>\n",
              "      <td>0</td>\n",
              "      <td>0</td>\n",
              "      <td>0</td>\n",
              "      <td>0</td>\n",
              "      <td>0</td>\n",
              "      <td>0</td>\n",
              "      <td>365</td>\n",
              "      <td>17317</td>\n",
              "      <td>102927</td>\n",
              "      <td>108799</td>\n",
              "      <td>109959</td>\n",
              "      <td>0</td>\n",
              "      <td>722</td>\n",
              "      <td>23197</td>\n",
              "      <td>103292</td>\n",
              "      <td>108871</td>\n",
              "      <td>109982</td>\n",
              "    </tr>\n",
              "    <tr>\n",
              "      <th>null_pct</th>\n",
              "      <td>0</td>\n",
              "      <td>0</td>\n",
              "      <td>35</td>\n",
              "      <td>35</td>\n",
              "      <td>8</td>\n",
              "      <td>8</td>\n",
              "      <td>8</td>\n",
              "      <td>24</td>\n",
              "      <td>50</td>\n",
              "      <td>75</td>\n",
              "      <td>0</td>\n",
              "      <td>0</td>\n",
              "      <td>0</td>\n",
              "      <td>0</td>\n",
              "      <td>0</td>\n",
              "      <td>0</td>\n",
              "      <td>0</td>\n",
              "      <td>0</td>\n",
              "      <td>0</td>\n",
              "      <td>15</td>\n",
              "      <td>93</td>\n",
              "      <td>98</td>\n",
              "      <td>99</td>\n",
              "      <td>0</td>\n",
              "      <td>0</td>\n",
              "      <td>21</td>\n",
              "      <td>93</td>\n",
              "      <td>98</td>\n",
              "      <td>99</td>\n",
              "    </tr>\n",
              "  </tbody>\n",
              "</table>\n",
              "</div>"
            ],
            "text/plain": [
              "             crash_date  crash_time  borough  ...  vehicle_3  vehicle_4  vehicle_5\n",
              "null_counts           0           0    39168  ...     103292     108871     109982\n",
              "null_pct              0           0       35  ...         93         98         99\n",
              "\n",
              "[2 rows x 29 columns]"
            ]
          },
          "metadata": {
            "tags": []
          },
          "execution_count": 15
        }
      ]
    },
    {
      "cell_type": "markdown",
      "metadata": {
        "id": "hpR7OfZTtR7O",
        "colab_type": "text"
      },
      "source": [
        "To make things easier, let's start by looking at the group of columns that relate to people killed in collisions.\n",
        "\n",
        "We'll use list comprehension to reduce our summary dataframe to just those columns:"
      ]
    },
    {
      "cell_type": "code",
      "metadata": {
        "id": "6kSQMNlyszsN",
        "colab_type": "code",
        "outputId": "ce4baf79-178e-42a8-df9a-626da7390644",
        "colab": {
          "base_uri": "https://localhost:8080/",
          "height": 111
        }
      },
      "source": [
        "killed_cols = [col for col in mvc_19.columns if 'killed' in col]\n",
        "null_df[killed_cols]"
      ],
      "execution_count": 16,
      "outputs": [
        {
          "output_type": "execute_result",
          "data": {
            "text/html": [
              "<div>\n",
              "<style scoped>\n",
              "    .dataframe tbody tr th:only-of-type {\n",
              "        vertical-align: middle;\n",
              "    }\n",
              "\n",
              "    .dataframe tbody tr th {\n",
              "        vertical-align: top;\n",
              "    }\n",
              "\n",
              "    .dataframe thead th {\n",
              "        text-align: right;\n",
              "    }\n",
              "</style>\n",
              "<table border=\"1\" class=\"dataframe\">\n",
              "  <thead>\n",
              "    <tr style=\"text-align: right;\">\n",
              "      <th></th>\n",
              "      <th>persons_killed</th>\n",
              "      <th>pedestrians_killed</th>\n",
              "      <th>cyclist_killed</th>\n",
              "      <th>motorist_killed</th>\n",
              "    </tr>\n",
              "  </thead>\n",
              "  <tbody>\n",
              "    <tr>\n",
              "      <th>null_counts</th>\n",
              "      <td>0</td>\n",
              "      <td>0</td>\n",
              "      <td>0</td>\n",
              "      <td>0</td>\n",
              "    </tr>\n",
              "    <tr>\n",
              "      <th>null_pct</th>\n",
              "      <td>0</td>\n",
              "      <td>0</td>\n",
              "      <td>0</td>\n",
              "      <td>0</td>\n",
              "    </tr>\n",
              "  </tbody>\n",
              "</table>\n",
              "</div>"
            ],
            "text/plain": [
              "             persons_killed  ...  motorist_killed\n",
              "null_counts               0  ...                0\n",
              "null_pct                  0  ...                0\n",
              "\n",
              "[2 rows x 4 columns]"
            ]
          },
          "metadata": {
            "tags": []
          },
          "execution_count": 16
        }
      ]
    },
    {
      "cell_type": "code",
      "metadata": {
        "id": "PtKmmCZStY0Z",
        "colab_type": "code",
        "outputId": "a5aacefa-5835-4468-d919-79f8956b0c73",
        "colab": {
          "base_uri": "https://localhost:8080/",
          "height": 111
        }
      },
      "source": [
        "injured_cols = [col for col in mvc_19.columns if 'injured' in col]\n",
        "null_df[injured_cols]"
      ],
      "execution_count": 17,
      "outputs": [
        {
          "output_type": "execute_result",
          "data": {
            "text/html": [
              "<div>\n",
              "<style scoped>\n",
              "    .dataframe tbody tr th:only-of-type {\n",
              "        vertical-align: middle;\n",
              "    }\n",
              "\n",
              "    .dataframe tbody tr th {\n",
              "        vertical-align: top;\n",
              "    }\n",
              "\n",
              "    .dataframe thead th {\n",
              "        text-align: right;\n",
              "    }\n",
              "</style>\n",
              "<table border=\"1\" class=\"dataframe\">\n",
              "  <thead>\n",
              "    <tr style=\"text-align: right;\">\n",
              "      <th></th>\n",
              "      <th>persons_injured</th>\n",
              "      <th>pedestrians_injured</th>\n",
              "      <th>cyclist_injured</th>\n",
              "      <th>motorist_injured</th>\n",
              "    </tr>\n",
              "  </thead>\n",
              "  <tbody>\n",
              "    <tr>\n",
              "      <th>null_counts</th>\n",
              "      <td>0</td>\n",
              "      <td>0</td>\n",
              "      <td>0</td>\n",
              "      <td>0</td>\n",
              "    </tr>\n",
              "    <tr>\n",
              "      <th>null_pct</th>\n",
              "      <td>0</td>\n",
              "      <td>0</td>\n",
              "      <td>0</td>\n",
              "      <td>0</td>\n",
              "    </tr>\n",
              "  </tbody>\n",
              "</table>\n",
              "</div>"
            ],
            "text/plain": [
              "             persons_injured  ...  motorist_injured\n",
              "null_counts                0  ...                 0\n",
              "null_pct                   0  ...                 0\n",
              "\n",
              "[2 rows x 4 columns]"
            ]
          },
          "metadata": {
            "tags": []
          },
          "execution_count": 17
        }
      ]
    },
    {
      "cell_type": "code",
      "metadata": {
        "id": "EbWimNQv4tf0",
        "colab_type": "code",
        "colab": {}
      },
      "source": [
        "import matplotlib.pyplot as plt\n",
        "import seaborn as sns\n",
        "%matplotlib inline\n",
        "\n",
        "\n",
        "def plot_null_matrix(df, figsize=(15,13)):\n",
        "    # initiate the figure\n",
        "    plt.figure(figsize=figsize)\n",
        "    # create a boolean dataframe based on whether values are null\n",
        "    df_null = df.isnull()\n",
        "    # create a heatmap of the boolean dataframe\n",
        "    sns.heatmap(~df_null, cbar=False, yticklabels=False)\n",
        "    plt.xticks(rotation=90, size='x-large')\n",
        "    plt.show()"
      ],
      "execution_count": 0,
      "outputs": []
    },
    {
      "cell_type": "code",
      "metadata": {
        "id": "3XQwwq1B5cIq",
        "colab_type": "code",
        "outputId": "85c23cf1-ab10-405e-cad5-040a4a5c7ba6",
        "colab": {
          "base_uri": "https://localhost:8080/",
          "height": 887
        }
      },
      "source": [
        "plot_null_matrix(mvc_19)"
      ],
      "execution_count": 19,
      "outputs": [
        {
          "output_type": "display_data",
          "data": {
            "image/png": "[encoded data removed]",
            "text/plain": [
              "<Figure size 1080x936 with 1 Axes>"
            ]
          },
          "metadata": {
            "tags": []
          }
        }
      ]
    },
    {
      "cell_type": "code",
      "metadata": {
        "id": "MXHHfXL85hEx",
        "colab_type": "code",
        "outputId": "0a4ef3d5-d2bf-4ffb-be91-d82e60cadabd",
        "colab": {
          "base_uri": "https://localhost:8080/",
          "height": 627
        }
      },
      "source": [
        "cols_with_missing_vals = mvc_19.columns[mvc_19.isnull().sum() > 0]\n",
        "missing_corr = mvc_19[cols_with_missing_vals].isnull().corr()\n",
        "missing_corr"
      ],
      "execution_count": 20,
      "outputs": [
        {
          "output_type": "execute_result",
          "data": {
            "text/html": [
              "<div>\n",
              "<style scoped>\n",
              "    .dataframe tbody tr th:only-of-type {\n",
              "        vertical-align: middle;\n",
              "    }\n",
              "\n",
              "    .dataframe tbody tr th {\n",
              "        vertical-align: top;\n",
              "    }\n",
              "\n",
              "    .dataframe thead th {\n",
              "        text-align: right;\n",
              "    }\n",
              "</style>\n",
              "<table border=\"1\" class=\"dataframe\">\n",
              "  <thead>\n",
              "    <tr style=\"text-align: right;\">\n",
              "      <th></th>\n",
              "      <th>borough</th>\n",
              "      <th>zip_code</th>\n",
              "      <th>latitude</th>\n",
              "      <th>longitude</th>\n",
              "      <th>location</th>\n",
              "      <th>on_street</th>\n",
              "      <th>cross_street</th>\n",
              "      <th>off_street</th>\n",
              "      <th>cause_vehicle_1</th>\n",
              "      <th>cause_vehicle_2</th>\n",
              "      <th>cause_vehicle_3</th>\n",
              "      <th>cause_vehicle_4</th>\n",
              "      <th>cause_vehicle_5</th>\n",
              "      <th>vehicle_1</th>\n",
              "      <th>vehicle_2</th>\n",
              "      <th>vehicle_3</th>\n",
              "      <th>vehicle_4</th>\n",
              "      <th>vehicle_5</th>\n",
              "    </tr>\n",
              "  </thead>\n",
              "  <tbody>\n",
              "    <tr>\n",
              "      <th>borough</th>\n",
              "      <td>1.000000</td>\n",
              "      <td>0.999624</td>\n",
              "      <td>0.270421</td>\n",
              "      <td>0.270421</td>\n",
              "      <td>0.270421</td>\n",
              "      <td>-0.376367</td>\n",
              "      <td>0.400326</td>\n",
              "      <td>0.376768</td>\n",
              "      <td>-0.016658</td>\n",
              "      <td>-0.057440</td>\n",
              "      <td>-0.054599</td>\n",
              "      <td>-0.018664</td>\n",
              "      <td>-0.004880</td>\n",
              "      <td>-0.023295</td>\n",
              "      <td>-0.072713</td>\n",
              "      <td>-0.053378</td>\n",
              "      <td>-0.017559</td>\n",
              "      <td>-0.004754</td>\n",
              "    </tr>\n",
              "    <tr>\n",
              "      <th>zip_code</th>\n",
              "      <td>0.999624</td>\n",
              "      <td>1.000000</td>\n",
              "      <td>0.270282</td>\n",
              "      <td>0.270282</td>\n",
              "      <td>0.270282</td>\n",
              "      <td>-0.376129</td>\n",
              "      <td>0.400257</td>\n",
              "      <td>0.376530</td>\n",
              "      <td>-0.016677</td>\n",
              "      <td>-0.057433</td>\n",
              "      <td>-0.054572</td>\n",
              "      <td>-0.018619</td>\n",
              "      <td>-0.004857</td>\n",
              "      <td>-0.023321</td>\n",
              "      <td>-0.072659</td>\n",
              "      <td>-0.053355</td>\n",
              "      <td>-0.017514</td>\n",
              "      <td>-0.004731</td>\n",
              "    </tr>\n",
              "    <tr>\n",
              "      <th>latitude</th>\n",
              "      <td>0.270421</td>\n",
              "      <td>0.270282</td>\n",
              "      <td>1.000000</td>\n",
              "      <td>1.000000</td>\n",
              "      <td>1.000000</td>\n",
              "      <td>-0.109664</td>\n",
              "      <td>0.010537</td>\n",
              "      <td>0.109755</td>\n",
              "      <td>-0.010231</td>\n",
              "      <td>-0.024493</td>\n",
              "      <td>-0.015133</td>\n",
              "      <td>-0.007741</td>\n",
              "      <td>0.001938</td>\n",
              "      <td>-0.015103</td>\n",
              "      <td>-0.036122</td>\n",
              "      <td>-0.014710</td>\n",
              "      <td>-0.007679</td>\n",
              "      <td>0.001478</td>\n",
              "    </tr>\n",
              "    <tr>\n",
              "      <th>longitude</th>\n",
              "      <td>0.270421</td>\n",
              "      <td>0.270282</td>\n",
              "      <td>1.000000</td>\n",
              "      <td>1.000000</td>\n",
              "      <td>1.000000</td>\n",
              "      <td>-0.109664</td>\n",
              "      <td>0.010537</td>\n",
              "      <td>0.109755</td>\n",
              "      <td>-0.010231</td>\n",
              "      <td>-0.024493</td>\n",
              "      <td>-0.015133</td>\n",
              "      <td>-0.007741</td>\n",
              "      <td>0.001938</td>\n",
              "      <td>-0.015103</td>\n",
              "      <td>-0.036122</td>\n",
              "      <td>-0.014710</td>\n",
              "      <td>-0.007679</td>\n",
              "      <td>0.001478</td>\n",
              "    </tr>\n",
              "    <tr>\n",
              "      <th>location</th>\n",
              "      <td>0.270421</td>\n",
              "      <td>0.270282</td>\n",
              "      <td>1.000000</td>\n",
              "      <td>1.000000</td>\n",
              "      <td>1.000000</td>\n",
              "      <td>-0.109664</td>\n",
              "      <td>0.010537</td>\n",
              "      <td>0.109755</td>\n",
              "      <td>-0.010231</td>\n",
              "      <td>-0.024493</td>\n",
              "      <td>-0.015133</td>\n",
              "      <td>-0.007741</td>\n",
              "      <td>0.001938</td>\n",
              "      <td>-0.015103</td>\n",
              "      <td>-0.036122</td>\n",
              "      <td>-0.014710</td>\n",
              "      <td>-0.007679</td>\n",
              "      <td>0.001478</td>\n",
              "    </tr>\n",
              "    <tr>\n",
              "      <th>on_street</th>\n",
              "      <td>-0.376367</td>\n",
              "      <td>-0.376129</td>\n",
              "      <td>-0.109664</td>\n",
              "      <td>-0.109664</td>\n",
              "      <td>-0.109664</td>\n",
              "      <td>1.000000</td>\n",
              "      <td>0.553049</td>\n",
              "      <td>-0.999702</td>\n",
              "      <td>0.001219</td>\n",
              "      <td>0.092356</td>\n",
              "      <td>0.006940</td>\n",
              "      <td>-0.007244</td>\n",
              "      <td>-0.004570</td>\n",
              "      <td>0.007502</td>\n",
              "      <td>0.118675</td>\n",
              "      <td>0.007475</td>\n",
              "      <td>-0.006556</td>\n",
              "      <td>-0.004880</td>\n",
              "    </tr>\n",
              "    <tr>\n",
              "      <th>cross_street</th>\n",
              "      <td>0.400326</td>\n",
              "      <td>0.400257</td>\n",
              "      <td>0.010537</td>\n",
              "      <td>0.010537</td>\n",
              "      <td>0.010537</td>\n",
              "      <td>0.553049</td>\n",
              "      <td>1.000000</td>\n",
              "      <td>-0.552884</td>\n",
              "      <td>-0.012169</td>\n",
              "      <td>0.027489</td>\n",
              "      <td>-0.055652</td>\n",
              "      <td>-0.028765</td>\n",
              "      <td>-0.014498</td>\n",
              "      <td>-0.014170</td>\n",
              "      <td>0.038675</td>\n",
              "      <td>-0.054124</td>\n",
              "      <td>-0.027656</td>\n",
              "      <td>-0.014210</td>\n",
              "    </tr>\n",
              "    <tr>\n",
              "      <th>off_street</th>\n",
              "      <td>0.376768</td>\n",
              "      <td>0.376530</td>\n",
              "      <td>0.109755</td>\n",
              "      <td>0.109755</td>\n",
              "      <td>0.109755</td>\n",
              "      <td>-0.999702</td>\n",
              "      <td>-0.552884</td>\n",
              "      <td>1.000000</td>\n",
              "      <td>-0.001233</td>\n",
              "      <td>-0.092305</td>\n",
              "      <td>-0.007126</td>\n",
              "      <td>0.007098</td>\n",
              "      <td>0.004587</td>\n",
              "      <td>-0.007524</td>\n",
              "      <td>-0.118616</td>\n",
              "      <td>-0.007669</td>\n",
              "      <td>0.006405</td>\n",
              "      <td>0.004897</td>\n",
              "    </tr>\n",
              "    <tr>\n",
              "      <th>cause_vehicle_1</th>\n",
              "      <td>-0.016658</td>\n",
              "      <td>-0.016677</td>\n",
              "      <td>-0.010231</td>\n",
              "      <td>-0.010231</td>\n",
              "      <td>-0.010231</td>\n",
              "      <td>0.001219</td>\n",
              "      <td>-0.012169</td>\n",
              "      <td>-0.001233</td>\n",
              "      <td>1.000000</td>\n",
              "      <td>0.133529</td>\n",
              "      <td>0.015509</td>\n",
              "      <td>0.006965</td>\n",
              "      <td>0.003606</td>\n",
              "      <td>0.568910</td>\n",
              "      <td>0.111667</td>\n",
              "      <td>0.015099</td>\n",
              "      <td>0.006803</td>\n",
              "      <td>0.003508</td>\n",
              "    </tr>\n",
              "    <tr>\n",
              "      <th>cause_vehicle_2</th>\n",
              "      <td>-0.057440</td>\n",
              "      <td>-0.057433</td>\n",
              "      <td>-0.024493</td>\n",
              "      <td>-0.024493</td>\n",
              "      <td>-0.024493</td>\n",
              "      <td>0.092356</td>\n",
              "      <td>0.027489</td>\n",
              "      <td>-0.092305</td>\n",
              "      <td>0.133529</td>\n",
              "      <td>1.000000</td>\n",
              "      <td>0.116149</td>\n",
              "      <td>0.052161</td>\n",
              "      <td>0.027005</td>\n",
              "      <td>0.185017</td>\n",
              "      <td>0.797818</td>\n",
              "      <td>0.113073</td>\n",
              "      <td>0.050950</td>\n",
              "      <td>0.026272</td>\n",
              "    </tr>\n",
              "    <tr>\n",
              "      <th>cause_vehicle_3</th>\n",
              "      <td>-0.054599</td>\n",
              "      <td>-0.054572</td>\n",
              "      <td>-0.015133</td>\n",
              "      <td>-0.015133</td>\n",
              "      <td>-0.015133</td>\n",
              "      <td>0.006940</td>\n",
              "      <td>-0.055652</td>\n",
              "      <td>-0.007126</td>\n",
              "      <td>0.015509</td>\n",
              "      <td>0.116149</td>\n",
              "      <td>1.000000</td>\n",
              "      <td>0.449087</td>\n",
              "      <td>0.232504</td>\n",
              "      <td>0.021848</td>\n",
              "      <td>0.137826</td>\n",
              "      <td>0.967925</td>\n",
              "      <td>0.438663</td>\n",
              "      <td>0.226192</td>\n",
              "    </tr>\n",
              "    <tr>\n",
              "      <th>cause_vehicle_4</th>\n",
              "      <td>-0.018664</td>\n",
              "      <td>-0.018619</td>\n",
              "      <td>-0.007741</td>\n",
              "      <td>-0.007741</td>\n",
              "      <td>-0.007741</td>\n",
              "      <td>-0.007244</td>\n",
              "      <td>-0.028765</td>\n",
              "      <td>0.007098</td>\n",
              "      <td>0.006965</td>\n",
              "      <td>0.052161</td>\n",
              "      <td>0.449087</td>\n",
              "      <td>1.000000</td>\n",
              "      <td>0.517727</td>\n",
              "      <td>0.009812</td>\n",
              "      <td>0.062373</td>\n",
              "      <td>0.460685</td>\n",
              "      <td>0.972220</td>\n",
              "      <td>0.503671</td>\n",
              "    </tr>\n",
              "    <tr>\n",
              "      <th>cause_vehicle_5</th>\n",
              "      <td>-0.004880</td>\n",
              "      <td>-0.004857</td>\n",
              "      <td>0.001938</td>\n",
              "      <td>0.001938</td>\n",
              "      <td>0.001938</td>\n",
              "      <td>-0.004570</td>\n",
              "      <td>-0.014498</td>\n",
              "      <td>0.004587</td>\n",
              "      <td>0.003606</td>\n",
              "      <td>0.027005</td>\n",
              "      <td>0.232504</td>\n",
              "      <td>0.517727</td>\n",
              "      <td>1.000000</td>\n",
              "      <td>0.005080</td>\n",
              "      <td>0.032292</td>\n",
              "      <td>0.238830</td>\n",
              "      <td>0.530030</td>\n",
              "      <td>0.970457</td>\n",
              "    </tr>\n",
              "    <tr>\n",
              "      <th>vehicle_1</th>\n",
              "      <td>-0.023295</td>\n",
              "      <td>-0.023321</td>\n",
              "      <td>-0.015103</td>\n",
              "      <td>-0.015103</td>\n",
              "      <td>-0.015103</td>\n",
              "      <td>0.007502</td>\n",
              "      <td>-0.014170</td>\n",
              "      <td>-0.007524</td>\n",
              "      <td>0.568910</td>\n",
              "      <td>0.185017</td>\n",
              "      <td>0.021848</td>\n",
              "      <td>0.009812</td>\n",
              "      <td>0.005080</td>\n",
              "      <td>1.000000</td>\n",
              "      <td>0.157309</td>\n",
              "      <td>0.021270</td>\n",
              "      <td>0.009584</td>\n",
              "      <td>0.004942</td>\n",
              "    </tr>\n",
              "    <tr>\n",
              "      <th>vehicle_2</th>\n",
              "      <td>-0.072713</td>\n",
              "      <td>-0.072659</td>\n",
              "      <td>-0.036122</td>\n",
              "      <td>-0.036122</td>\n",
              "      <td>-0.036122</td>\n",
              "      <td>0.118675</td>\n",
              "      <td>0.038675</td>\n",
              "      <td>-0.118616</td>\n",
              "      <td>0.111667</td>\n",
              "      <td>0.797818</td>\n",
              "      <td>0.137826</td>\n",
              "      <td>0.062373</td>\n",
              "      <td>0.032292</td>\n",
              "      <td>0.157309</td>\n",
              "      <td>1.000000</td>\n",
              "      <td>0.135210</td>\n",
              "      <td>0.060925</td>\n",
              "      <td>0.031416</td>\n",
              "    </tr>\n",
              "    <tr>\n",
              "      <th>vehicle_3</th>\n",
              "      <td>-0.053378</td>\n",
              "      <td>-0.053355</td>\n",
              "      <td>-0.014710</td>\n",
              "      <td>-0.014710</td>\n",
              "      <td>-0.014710</td>\n",
              "      <td>0.007475</td>\n",
              "      <td>-0.054124</td>\n",
              "      <td>-0.007669</td>\n",
              "      <td>0.015099</td>\n",
              "      <td>0.113073</td>\n",
              "      <td>0.967925</td>\n",
              "      <td>0.460685</td>\n",
              "      <td>0.238830</td>\n",
              "      <td>0.021270</td>\n",
              "      <td>0.135210</td>\n",
              "      <td>1.000000</td>\n",
              "      <td>0.450597</td>\n",
              "      <td>0.232346</td>\n",
              "    </tr>\n",
              "    <tr>\n",
              "      <th>vehicle_4</th>\n",
              "      <td>-0.017559</td>\n",
              "      <td>-0.017514</td>\n",
              "      <td>-0.007679</td>\n",
              "      <td>-0.007679</td>\n",
              "      <td>-0.007679</td>\n",
              "      <td>-0.006556</td>\n",
              "      <td>-0.027656</td>\n",
              "      <td>0.006405</td>\n",
              "      <td>0.006803</td>\n",
              "      <td>0.050950</td>\n",
              "      <td>0.438663</td>\n",
              "      <td>0.972220</td>\n",
              "      <td>0.530030</td>\n",
              "      <td>0.009584</td>\n",
              "      <td>0.060925</td>\n",
              "      <td>0.450597</td>\n",
              "      <td>1.000000</td>\n",
              "      <td>0.515640</td>\n",
              "    </tr>\n",
              "    <tr>\n",
              "      <th>vehicle_5</th>\n",
              "      <td>-0.004754</td>\n",
              "      <td>-0.004731</td>\n",
              "      <td>0.001478</td>\n",
              "      <td>0.001478</td>\n",
              "      <td>0.001478</td>\n",
              "      <td>-0.004880</td>\n",
              "      <td>-0.014210</td>\n",
              "      <td>0.004897</td>\n",
              "      <td>0.003508</td>\n",
              "      <td>0.026272</td>\n",
              "      <td>0.226192</td>\n",
              "      <td>0.503671</td>\n",
              "      <td>0.970457</td>\n",
              "      <td>0.004942</td>\n",
              "      <td>0.031416</td>\n",
              "      <td>0.232346</td>\n",
              "      <td>0.515640</td>\n",
              "      <td>1.000000</td>\n",
              "    </tr>\n",
              "  </tbody>\n",
              "</table>\n",
              "</div>"
            ],
            "text/plain": [
              "                  borough  zip_code  latitude  ...  vehicle_3  vehicle_4  vehicle_5\n",
              "borough          1.000000  0.999624  0.270421  ...  -0.053378  -0.017559  -0.004754\n",
              "zip_code         0.999624  1.000000  0.270282  ...  -0.053355  -0.017514  -0.004731\n",
              "latitude         0.270421  0.270282  1.000000  ...  -0.014710  -0.007679   0.001478\n",
              "longitude        0.270421  0.270282  1.000000  ...  -0.014710  -0.007679   0.001478\n",
              "location         0.270421  0.270282  1.000000  ...  -0.014710  -0.007679   0.001478\n",
              "on_street       -0.376367 -0.376129 -0.109664  ...   0.007475  -0.006556  -0.004880\n",
              "cross_street     0.400326  0.400257  0.010537  ...  -0.054124  -0.027656  -0.014210\n",
              "off_street       0.376768  0.376530  0.109755  ...  -0.007669   0.006405   0.004897\n",
              "cause_vehicle_1 -0.016658 -0.016677 -0.010231  ...   0.015099   0.006803   0.003508\n",
              "cause_vehicle_2 -0.057440 -0.057433 -0.024493  ...   0.113073   0.050950   0.026272\n",
              "cause_vehicle_3 -0.054599 -0.054572 -0.015133  ...   0.967925   0.438663   0.226192\n",
              "cause_vehicle_4 -0.018664 -0.018619 -0.007741  ...   0.460685   0.972220   0.503671\n",
              "cause_vehicle_5 -0.004880 -0.004857  0.001938  ...   0.238830   0.530030   0.970457\n",
              "vehicle_1       -0.023295 -0.023321 -0.015103  ...   0.021270   0.009584   0.004942\n",
              "vehicle_2       -0.072713 -0.072659 -0.036122  ...   0.135210   0.060925   0.031416\n",
              "vehicle_3       -0.053378 -0.053355 -0.014710  ...   1.000000   0.450597   0.232346\n",
              "vehicle_4       -0.017559 -0.017514 -0.007679  ...   0.450597   1.000000   0.515640\n",
              "vehicle_5       -0.004754 -0.004731  0.001478  ...   0.232346   0.515640   1.000000\n",
              "\n",
              "[18 rows x 18 columns]"
            ]
          },
          "metadata": {
            "tags": []
          },
          "execution_count": 20
        }
      ]
    },
    {
      "cell_type": "code",
      "metadata": {
        "id": "1dilE2og6szf",
        "colab_type": "code",
        "outputId": "e761c975-810e-465f-c1bf-81a3d458c5fe",
        "colab": {
          "base_uri": "https://localhost:8080/",
          "height": 699
        }
      },
      "source": [
        "def plot_null_correlations(df):\n",
        "    # create a correlation matrix only for columns with at least\n",
        "    # one missing value\n",
        "    cols_with_missing_vals = df.columns[df.isnull().sum() > 0]\n",
        "    missing_corr = df[cols_with_missing_vals].isnull().corr()\n",
        "    \n",
        "    # create a triangular mask to avoid repeated values and make\n",
        "    # the plot easier to read\n",
        "    missing_corr = missing_corr.iloc[1:, :-1]\n",
        "    mask = np.triu(np.ones_like(missing_corr), k=1)\n",
        "    \n",
        "    # plot a heatmap of the values\n",
        "    plt.figure(figsize=(15,10))\n",
        "    ax = sns.heatmap(missing_corr, vmin=-1, vmax=1, cbar=False,\n",
        "                     cmap='RdBu', mask=mask, annot=True)\n",
        "    \n",
        "    # format the text in the plot to make it easier to read\n",
        "    for text in ax.texts:\n",
        "        t = float(text.get_text())\n",
        "        if -0.05 < t < 0.01:\n",
        "            text.set_text('')\n",
        "        else:\n",
        "            text.set_text(round(t, 2))\n",
        "        text.set_fontsize('x-large')\n",
        "    plt.xticks(rotation=90, size='x-large')\n",
        "    plt.yticks(rotation=0, size='x-large')\n",
        "\n",
        "    plt.show()\n",
        "    \n",
        "# veh_cols = [ c for c in mvc.columns if 'vehicle' in c]\n",
        "plot_null_correlations(mvc_19)"
      ],
      "execution_count": 21,
      "outputs": [
        {
          "output_type": "display_data",
          "data": {
            "image/png": "[encoded data removed]",
            "text/plain": [
              "<Figure size 1080x720 with 1 Axes>"
            ]
          },
          "metadata": {
            "tags": []
          }
        }
      ]
    },
    {
      "cell_type": "code",
      "metadata": {
        "id": "zBkjsPMT7NM-",
        "colab_type": "code",
        "outputId": "8ccac8ce-d63e-40a4-dabb-1f72b07b6ea6",
        "colab": {
          "base_uri": "https://localhost:8080/",
          "height": 699
        }
      },
      "source": [
        "veh_cols = [ c for c in mvc_19.columns if 'vehicle' in c]\n",
        "plot_null_correlations(mvc_19[veh_cols])"
      ],
      "execution_count": 22,
      "outputs": [
        {
          "output_type": "display_data",
          "data": {
            "image/png": "[encoded data removed]",
            "text/plain": [
              "<Figure size 1080x720 with 1 Axes>"
            ]
          },
          "metadata": {
            "tags": []
          }
        }
      ]
    },
    {
      "cell_type": "code",
      "metadata": {
        "id": "7eMUIw_q7n_c",
        "colab_type": "code",
        "colab": {}
      },
      "source": [
        "col_labels = ['v_number', 'vehicle_missing', 'cause_missing']\n",
        "\n",
        "vc_null_data = []\n",
        "\n",
        "for v in range(1,6):\n",
        "    v_col = 'vehicle_{}'.format(v)\n",
        "    c_col = 'cause_vehicle_{}'.format(v)\n",
        "    v_null = (mvc_19[v_col].isnull() & mvc_19[c_col].notnull()).sum()\n",
        "    c_null = (mvc_19[c_col].isnull() & mvc_19[v_col].notnull()).sum()\n",
        "    \n",
        "    vc_null_data.append([v, v_null, c_null])\n",
        "\n",
        "vc_null_df = pd.DataFrame(vc_null_data, columns=col_labels)"
      ],
      "execution_count": 0,
      "outputs": []
    },
    {
      "cell_type": "code",
      "metadata": {
        "id": "c3R6qqGO8Rdj",
        "colab_type": "code",
        "outputId": "97cc928e-80dd-4247-a56a-628699b93af2",
        "colab": {
          "base_uri": "https://localhost:8080/",
          "height": 204
        }
      },
      "source": [
        "vc_null_df"
      ],
      "execution_count": 24,
      "outputs": [
        {
          "output_type": "execute_result",
          "data": {
            "text/html": [
              "<div>\n",
              "<style scoped>\n",
              "    .dataframe tbody tr th:only-of-type {\n",
              "        vertical-align: middle;\n",
              "    }\n",
              "\n",
              "    .dataframe tbody tr th {\n",
              "        vertical-align: top;\n",
              "    }\n",
              "\n",
              "    .dataframe thead th {\n",
              "        text-align: right;\n",
              "    }\n",
              "</style>\n",
              "<table border=\"1\" class=\"dataframe\">\n",
              "  <thead>\n",
              "    <tr style=\"text-align: right;\">\n",
              "      <th></th>\n",
              "      <th>v_number</th>\n",
              "      <th>vehicle_missing</th>\n",
              "      <th>cause_missing</th>\n",
              "    </tr>\n",
              "  </thead>\n",
              "  <tbody>\n",
              "    <tr>\n",
              "      <th>0</th>\n",
              "      <td>1</td>\n",
              "      <td>429</td>\n",
              "      <td>72</td>\n",
              "    </tr>\n",
              "    <tr>\n",
              "      <th>1</th>\n",
              "      <td>2</td>\n",
              "      <td>6509</td>\n",
              "      <td>629</td>\n",
              "    </tr>\n",
              "    <tr>\n",
              "      <th>2</th>\n",
              "      <td>3</td>\n",
              "      <td>403</td>\n",
              "      <td>38</td>\n",
              "    </tr>\n",
              "    <tr>\n",
              "      <th>3</th>\n",
              "      <td>4</td>\n",
              "      <td>79</td>\n",
              "      <td>7</td>\n",
              "    </tr>\n",
              "    <tr>\n",
              "      <th>4</th>\n",
              "      <td>5</td>\n",
              "      <td>24</td>\n",
              "      <td>1</td>\n",
              "    </tr>\n",
              "  </tbody>\n",
              "</table>\n",
              "</div>"
            ],
            "text/plain": [
              "   v_number  vehicle_missing  cause_missing\n",
              "0         1              429             72\n",
              "1         2             6509            629\n",
              "2         3              403             38\n",
              "3         4               79              7\n",
              "4         5               24              1"
            ]
          },
          "metadata": {
            "tags": []
          },
          "execution_count": 24
        }
      ]
    },
    {
      "cell_type": "markdown",
      "metadata": {
        "id": "2Qey-5JA8tz9",
        "colab_type": "text"
      },
      "source": [
        "One common option when imputing is to use the most common value to fill in data. Let's look at the common values across these columns and see if we can use that to make a decision.\n",
        "\n",
        "\n",
        "Let's use the `DataFrame.stack()` and `Series.value_counts()` technique to count the most common values for the cause set of columns. We'll start by selecting only the columns containing the substring `CONTRIBUTING FACTOR VEHICLE `."
      ]
    },
    {
      "cell_type": "code",
      "metadata": {
        "id": "lDy4wF1Q9PZb",
        "colab_type": "code",
        "outputId": "f7bddf15-e3a0-4158-f11d-03dffd5d85bb",
        "colab": {
          "base_uri": "https://localhost:8080/",
          "height": 204
        }
      },
      "source": [
        "cause_cols = [c for c in mvc_19.columns if \"cause_vehicle_\" in c]\n",
        "cause = mvc_19[cause_cols]\n",
        "cause_1d = cause.stack()\n",
        "cause_counts = cause_1d.value_counts()\n",
        "top10_cause = cause_counts.head(10)\n",
        "top10_cause"
      ],
      "execution_count": 25,
      "outputs": [
        {
          "output_type": "execute_result",
          "data": {
            "text/plain": [
              "Unspecified                       111637\n",
              "Driver Inattention/Distraction     35663\n",
              "Following Too Closely              11807\n",
              "Failure to Yield Right-of-Way       8405\n",
              "Passing or Lane Usage Improper      5936\n",
              "Backing Unsafely                    5342\n",
              "Passing Too Closely                 5232\n",
              "Other Vehicular                     4908\n",
              "Unsafe Lane Changing                4102\n",
              "Turning Improperly                  2667\n",
              "dtype: int64"
            ]
          },
          "metadata": {
            "tags": []
          },
          "execution_count": 25
        }
      ]
    },
    {
      "cell_type": "code",
      "metadata": {
        "id": "Sr68NL9K9k56",
        "colab_type": "code",
        "outputId": "3b132769-14e6-4260-e904-962f604623f6",
        "colab": {
          "base_uri": "https://localhost:8080/",
          "height": 204
        }
      },
      "source": [
        "v_cols = [c for c in mvc_19.columns if c.startswith(\"vehicle_\")]\n",
        "vehicles = mvc_19[v_cols]\n",
        "vehicles_1d = vehicles.stack()\n",
        "vehicles_counts = vehicles_1d.value_counts()\n",
        "top10_vehicles = vehicles_counts.head(10)\n",
        "top10_vehicles"
      ],
      "execution_count": 26,
      "outputs": [
        {
          "output_type": "execute_result",
          "data": {
            "text/plain": [
              "Sedan                                  89356\n",
              "Station Wagon/Sport Utility Vehicle    77539\n",
              "Taxi                                    9259\n",
              "Pick-up Truck                           6779\n",
              "Box Truck                               4984\n",
              "Bike                                    3418\n",
              "Bus                                     3345\n",
              "Tractor Truck Diesel                    1741\n",
              "Van                                     1365\n",
              "Motorcycle                              1227\n",
              "dtype: int64"
            ]
          },
          "metadata": {
            "tags": []
          },
          "execution_count": 26
        }
      ]
    },
    {
      "cell_type": "markdown",
      "metadata": {
        "id": "5UWCRvHK-2DG",
        "colab_type": "text"
      },
      "source": [
        "The vehicles columns don't have an equivalent, but we can still use the same technique. Here's the logic we'll need to do for each pair of vehicle/cause columns:\n",
        "\n",
        " - For values where the vehicle is null and the cause is non-null, set the vehicle to `Unspecified`.\n",
        " - For values where the cause is null and the vehicle is not-null, set the cause to `Unspecified`."
      ]
    },
    {
      "cell_type": "code",
      "metadata": {
        "id": "4RaNDwLZ9wQ5",
        "colab_type": "code",
        "outputId": "4562fab0-1652-4e0f-e052-785e825bde4a",
        "colab": {
          "base_uri": "https://localhost:8080/",
          "height": 204
        }
      },
      "source": [
        "def summarize_missing(df):\n",
        "    v_missing_data = []\n",
        "\n",
        "    for v in range(1,6):\n",
        "        v_col = 'vehicle_{}'.format(v)\n",
        "        c_col = 'cause_vehicle_{}'.format(v)\n",
        "\n",
        "        v_missing = (df[v_col].isnull() & df[c_col].notnull()).sum()\n",
        "        c_missing = (df[c_col].isnull() & df[v_col].notnull()).sum()\n",
        "\n",
        "        v_missing_data.append([v, v_missing, c_missing])\n",
        "\n",
        "    col_labels = columns=[\"vehicle_number\", \"vehicle_missing\", \"cause_missing\"]\n",
        "    return pd.DataFrame(v_missing_data, columns=col_labels)\n",
        "\n",
        "summary_before = summarize_missing(mvc_19)\n",
        "summary_before"
      ],
      "execution_count": 27,
      "outputs": [
        {
          "output_type": "execute_result",
          "data": {
            "text/html": [
              "<div>\n",
              "<style scoped>\n",
              "    .dataframe tbody tr th:only-of-type {\n",
              "        vertical-align: middle;\n",
              "    }\n",
              "\n",
              "    .dataframe tbody tr th {\n",
              "        vertical-align: top;\n",
              "    }\n",
              "\n",
              "    .dataframe thead th {\n",
              "        text-align: right;\n",
              "    }\n",
              "</style>\n",
              "<table border=\"1\" class=\"dataframe\">\n",
              "  <thead>\n",
              "    <tr style=\"text-align: right;\">\n",
              "      <th></th>\n",
              "      <th>vehicle_number</th>\n",
              "      <th>vehicle_missing</th>\n",
              "      <th>cause_missing</th>\n",
              "    </tr>\n",
              "  </thead>\n",
              "  <tbody>\n",
              "    <tr>\n",
              "      <th>0</th>\n",
              "      <td>1</td>\n",
              "      <td>429</td>\n",
              "      <td>72</td>\n",
              "    </tr>\n",
              "    <tr>\n",
              "      <th>1</th>\n",
              "      <td>2</td>\n",
              "      <td>6509</td>\n",
              "      <td>629</td>\n",
              "    </tr>\n",
              "    <tr>\n",
              "      <th>2</th>\n",
              "      <td>3</td>\n",
              "      <td>403</td>\n",
              "      <td>38</td>\n",
              "    </tr>\n",
              "    <tr>\n",
              "      <th>3</th>\n",
              "      <td>4</td>\n",
              "      <td>79</td>\n",
              "      <td>7</td>\n",
              "    </tr>\n",
              "    <tr>\n",
              "      <th>4</th>\n",
              "      <td>5</td>\n",
              "      <td>24</td>\n",
              "      <td>1</td>\n",
              "    </tr>\n",
              "  </tbody>\n",
              "</table>\n",
              "</div>"
            ],
            "text/plain": [
              "   vehicle_number  vehicle_missing  cause_missing\n",
              "0               1              429             72\n",
              "1               2             6509            629\n",
              "2               3              403             38\n",
              "3               4               79              7\n",
              "4               5               24              1"
            ]
          },
          "metadata": {
            "tags": []
          },
          "execution_count": 27
        }
      ]
    },
    {
      "cell_type": "code",
      "metadata": {
        "id": "CGSOBiL1_yzF",
        "colab_type": "code",
        "outputId": "8e082e24-79d7-4217-c024-eab5663d65a6",
        "colab": {
          "base_uri": "https://localhost:8080/",
          "height": 408
        }
      },
      "source": [
        "for v in range(1,6):\n",
        "    v_col = 'vehicle_{}'.format(v)\n",
        "    c_col = 'cause_vehicle_{}'.format(v)\n",
        "\n",
        "    #mvc_19_copy = mvc_19.copy()\n",
        "    \n",
        "    v_missing_mask = (mvc_19[v_col].isnull() & mvc_19[c_col].notnull())\n",
        "    c_missing_mask = (mvc_19[c_col].isnull() & mvc_19[v_col].notnull())\n",
        "    \n",
        "    mvc_19[v_col] = mvc_19[v_col].mask(v_missing_mask, 'Unspecified')\n",
        "    mvc_19[c_col] = mvc_19[c_col].mask(c_missing_mask, 'Unspecified')\n",
        "    \n",
        "summary_after = summarize_missing(mvc_19)\n",
        "summary_after"
      ],
      "execution_count": 28,
      "outputs": [
        {
          "output_type": "stream",
          "text": [
            "/usr/local/lib/python3.6/dist-packages/ipykernel_launcher.py:10: SettingWithCopyWarning: \n",
            "A value is trying to be set on a copy of a slice from a DataFrame.\n",
            "Try using .loc[row_indexer,col_indexer] = value instead\n",
            "\n",
            "See the caveats in the documentation: http://pandas.pydata.org/pandas-docs/stable/user_guide/indexing.html#returning-a-view-versus-a-copy\n",
            "  # Remove the CWD from sys.path while we load stuff.\n",
            "/usr/local/lib/python3.6/dist-packages/ipykernel_launcher.py:11: SettingWithCopyWarning: \n",
            "A value is trying to be set on a copy of a slice from a DataFrame.\n",
            "Try using .loc[row_indexer,col_indexer] = value instead\n",
            "\n",
            "See the caveats in the documentation: http://pandas.pydata.org/pandas-docs/stable/user_guide/indexing.html#returning-a-view-versus-a-copy\n",
            "  # This is added back by InteractiveShellApp.init_path()\n"
          ],
          "name": "stderr"
        },
        {
          "output_type": "execute_result",
          "data": {
            "text/html": [
              "<div>\n",
              "<style scoped>\n",
              "    .dataframe tbody tr th:only-of-type {\n",
              "        vertical-align: middle;\n",
              "    }\n",
              "\n",
              "    .dataframe tbody tr th {\n",
              "        vertical-align: top;\n",
              "    }\n",
              "\n",
              "    .dataframe thead th {\n",
              "        text-align: right;\n",
              "    }\n",
              "</style>\n",
              "<table border=\"1\" class=\"dataframe\">\n",
              "  <thead>\n",
              "    <tr style=\"text-align: right;\">\n",
              "      <th></th>\n",
              "      <th>vehicle_number</th>\n",
              "      <th>vehicle_missing</th>\n",
              "      <th>cause_missing</th>\n",
              "    </tr>\n",
              "  </thead>\n",
              "  <tbody>\n",
              "    <tr>\n",
              "      <th>0</th>\n",
              "      <td>1</td>\n",
              "      <td>0</td>\n",
              "      <td>0</td>\n",
              "    </tr>\n",
              "    <tr>\n",
              "      <th>1</th>\n",
              "      <td>2</td>\n",
              "      <td>0</td>\n",
              "      <td>0</td>\n",
              "    </tr>\n",
              "    <tr>\n",
              "      <th>2</th>\n",
              "      <td>3</td>\n",
              "      <td>0</td>\n",
              "      <td>0</td>\n",
              "    </tr>\n",
              "    <tr>\n",
              "      <th>3</th>\n",
              "      <td>4</td>\n",
              "      <td>0</td>\n",
              "      <td>0</td>\n",
              "    </tr>\n",
              "    <tr>\n",
              "      <th>4</th>\n",
              "      <td>5</td>\n",
              "      <td>0</td>\n",
              "      <td>0</td>\n",
              "    </tr>\n",
              "  </tbody>\n",
              "</table>\n",
              "</div>"
            ],
            "text/plain": [
              "   vehicle_number  vehicle_missing  cause_missing\n",
              "0               1                0              0\n",
              "1               2                0              0\n",
              "2               3                0              0\n",
              "3               4                0              0\n",
              "4               5                0              0"
            ]
          },
          "metadata": {
            "tags": []
          },
          "execution_count": 28
        }
      ]
    },
    {
      "cell_type": "code",
      "metadata": {
        "id": "Ov3oArKvis_l",
        "colab_type": "code",
        "colab": {}
      },
      "source": [
        ""
      ],
      "execution_count": 0,
      "outputs": []
    },
    {
      "cell_type": "code",
      "metadata": {
        "id": "6lUbYe6zis-Z",
        "colab_type": "code",
        "colab": {}
      },
      "source": [
        ""
      ],
      "execution_count": 0,
      "outputs": []
    },
    {
      "cell_type": "code",
      "metadata": {
        "id": "FqrtmJWkis2e",
        "colab_type": "code",
        "colab": {}
      },
      "source": [
        ""
      ],
      "execution_count": 0,
      "outputs": []
    },
    {
      "cell_type": "code",
      "metadata": {
        "id": "DpHDcIk8bCTy",
        "colab_type": "code",
        "colab": {
          "base_uri": "https://localhost:8080/",
          "height": 669
        },
        "outputId": "83109364-01dd-4955-a511-231254d267fc"
      },
      "source": [
        "loc_cols = ['borough', 'location', 'on_street', 'off_street', 'cross_street']\n",
        "location_data = mvc_19[loc_cols]\n",
        "location_data.head(20)"
      ],
      "execution_count": 29,
      "outputs": [
        {
          "output_type": "execute_result",
          "data": {
            "text/html": [
              "<div>\n",
              "<style scoped>\n",
              "    .dataframe tbody tr th:only-of-type {\n",
              "        vertical-align: middle;\n",
              "    }\n",
              "\n",
              "    .dataframe tbody tr th {\n",
              "        vertical-align: top;\n",
              "    }\n",
              "\n",
              "    .dataframe thead th {\n",
              "        text-align: right;\n",
              "    }\n",
              "</style>\n",
              "<table border=\"1\" class=\"dataframe\">\n",
              "  <thead>\n",
              "    <tr style=\"text-align: right;\">\n",
              "      <th></th>\n",
              "      <th>borough</th>\n",
              "      <th>location</th>\n",
              "      <th>on_street</th>\n",
              "      <th>off_street</th>\n",
              "      <th>cross_street</th>\n",
              "    </tr>\n",
              "  </thead>\n",
              "  <tbody>\n",
              "    <tr>\n",
              "      <th>0</th>\n",
              "      <td>MANHATTAN</td>\n",
              "      <td>POINT (-73.98686 40.75108)</td>\n",
              "      <td>WEST 36 STREET</td>\n",
              "      <td>NaN</td>\n",
              "      <td>AVENUE OF THE AMERICAS</td>\n",
              "    </tr>\n",
              "    <tr>\n",
              "      <th>1</th>\n",
              "      <td>BRONX</td>\n",
              "      <td>POINT (-73.87439 40.879055)</td>\n",
              "      <td>EAST GUN HILL ROAD</td>\n",
              "      <td>NaN</td>\n",
              "      <td>PERRY AVENUE</td>\n",
              "    </tr>\n",
              "    <tr>\n",
              "      <th>2</th>\n",
              "      <td>BROOKLYN</td>\n",
              "      <td>POINT (-73.903824 40.657856)</td>\n",
              "      <td>NaN</td>\n",
              "      <td>843       STONE AVENUE</td>\n",
              "      <td>NaN</td>\n",
              "    </tr>\n",
              "    <tr>\n",
              "      <th>3</th>\n",
              "      <td>NaN</td>\n",
              "      <td>NaN</td>\n",
              "      <td>PELHAM PARKWAY SOUTH</td>\n",
              "      <td>NaN</td>\n",
              "      <td>EASTCHESTER ROAD</td>\n",
              "    </tr>\n",
              "    <tr>\n",
              "      <th>4</th>\n",
              "      <td>STATEN ISLAND</td>\n",
              "      <td>POINT (-74.084656 40.615204)</td>\n",
              "      <td>TARGEE STREET</td>\n",
              "      <td>NaN</td>\n",
              "      <td>VANDERBILT AVENUE</td>\n",
              "    </tr>\n",
              "    <tr>\n",
              "      <th>5</th>\n",
              "      <td>NaN</td>\n",
              "      <td>POINT (-74.002144 40.729794)</td>\n",
              "      <td>AVENUE OF THE AMERICAS</td>\n",
              "      <td>NaN</td>\n",
              "      <td>NaN</td>\n",
              "    </tr>\n",
              "    <tr>\n",
              "      <th>6</th>\n",
              "      <td>MANHATTAN</td>\n",
              "      <td>POINT (-73.9862 40.757404)</td>\n",
              "      <td>NaN</td>\n",
              "      <td>200       WEST 44 STREET</td>\n",
              "      <td>NaN</td>\n",
              "    </tr>\n",
              "    <tr>\n",
              "      <th>7</th>\n",
              "      <td>QUEENS</td>\n",
              "      <td>POINT (-73.755745 40.658688)</td>\n",
              "      <td>226 STREET</td>\n",
              "      <td>NaN</td>\n",
              "      <td>147 AVENUE</td>\n",
              "    </tr>\n",
              "    <tr>\n",
              "      <th>8</th>\n",
              "      <td>QUEENS</td>\n",
              "      <td>POINT (-73.77612 40.667847)</td>\n",
              "      <td>NORTH CONDUIT AVENUE</td>\n",
              "      <td>NaN</td>\n",
              "      <td>159 STREET</td>\n",
              "    </tr>\n",
              "    <tr>\n",
              "      <th>9</th>\n",
              "      <td>BROOKLYN</td>\n",
              "      <td>POINT (-73.92988 40.66399)</td>\n",
              "      <td>EAST NEW YORK AVENUE</td>\n",
              "      <td>NaN</td>\n",
              "      <td>EAST 92 STREET</td>\n",
              "    </tr>\n",
              "    <tr>\n",
              "      <th>10</th>\n",
              "      <td>BROOKLYN</td>\n",
              "      <td>POINT (-73.92223 40.67256)</td>\n",
              "      <td>NaN</td>\n",
              "      <td>487       RALPH AVENUE</td>\n",
              "      <td>NaN</td>\n",
              "    </tr>\n",
              "    <tr>\n",
              "      <th>11</th>\n",
              "      <td>QUEENS</td>\n",
              "      <td>POINT (-73.73755 40.7684)</td>\n",
              "      <td>NORTHERN BOULEVARD</td>\n",
              "      <td>NaN</td>\n",
              "      <td>MARATHON PARKWAY</td>\n",
              "    </tr>\n",
              "    <tr>\n",
              "      <th>12</th>\n",
              "      <td>NaN</td>\n",
              "      <td>POINT (-73.880615 40.67911)</td>\n",
              "      <td>ATLANTIC AVENUE</td>\n",
              "      <td>NaN</td>\n",
              "      <td>NaN</td>\n",
              "    </tr>\n",
              "    <tr>\n",
              "      <th>13</th>\n",
              "      <td>QUEENS</td>\n",
              "      <td>POINT (-73.83134 40.693127)</td>\n",
              "      <td>ATLANTIC AVENUE</td>\n",
              "      <td>NaN</td>\n",
              "      <td>115 STREET</td>\n",
              "    </tr>\n",
              "    <tr>\n",
              "      <th>14</th>\n",
              "      <td>QUEENS</td>\n",
              "      <td>POINT (-73.892746 40.72143)</td>\n",
              "      <td>69 STREET</td>\n",
              "      <td>NaN</td>\n",
              "      <td>60 AVENUE</td>\n",
              "    </tr>\n",
              "    <tr>\n",
              "      <th>15</th>\n",
              "      <td>BROOKLYN</td>\n",
              "      <td>POINT (-73.945724 40.680172)</td>\n",
              "      <td>NaN</td>\n",
              "      <td>1368      FULTON STREET</td>\n",
              "      <td>NaN</td>\n",
              "    </tr>\n",
              "    <tr>\n",
              "      <th>16</th>\n",
              "      <td>QUEENS</td>\n",
              "      <td>POINT (-73.81392 40.78342)</td>\n",
              "      <td>17 ROAD</td>\n",
              "      <td>NaN</td>\n",
              "      <td>150 STREET</td>\n",
              "    </tr>\n",
              "    <tr>\n",
              "      <th>17</th>\n",
              "      <td>NaN</td>\n",
              "      <td>POINT (-74.00231 40.59662)</td>\n",
              "      <td>BELT PARKWAY</td>\n",
              "      <td>NaN</td>\n",
              "      <td>NaN</td>\n",
              "    </tr>\n",
              "    <tr>\n",
              "      <th>18</th>\n",
              "      <td>NaN</td>\n",
              "      <td>POINT (-73.766945 40.74629)</td>\n",
              "      <td>210 STREET</td>\n",
              "      <td>NaN</td>\n",
              "      <td>NaN</td>\n",
              "    </tr>\n",
              "    <tr>\n",
              "      <th>19</th>\n",
              "      <td>MANHATTAN</td>\n",
              "      <td>POINT (-73.929985 40.867794)</td>\n",
              "      <td>DYCKMAN STREET</td>\n",
              "      <td>NaN</td>\n",
              "      <td>STAFF STREET</td>\n",
              "    </tr>\n",
              "  </tbody>\n",
              "</table>\n",
              "</div>"
            ],
            "text/plain": [
              "          borough  ...            cross_street\n",
              "0       MANHATTAN  ...  AVENUE OF THE AMERICAS\n",
              "1           BRONX  ...            PERRY AVENUE\n",
              "2        BROOKLYN  ...                     NaN\n",
              "3             NaN  ...        EASTCHESTER ROAD\n",
              "4   STATEN ISLAND  ...       VANDERBILT AVENUE\n",
              "5             NaN  ...                     NaN\n",
              "6       MANHATTAN  ...                     NaN\n",
              "7          QUEENS  ...              147 AVENUE\n",
              "8          QUEENS  ...              159 STREET\n",
              "9        BROOKLYN  ...          EAST 92 STREET\n",
              "10       BROOKLYN  ...                     NaN\n",
              "11         QUEENS  ...        MARATHON PARKWAY\n",
              "12            NaN  ...                     NaN\n",
              "13         QUEENS  ...              115 STREET\n",
              "14         QUEENS  ...               60 AVENUE\n",
              "15       BROOKLYN  ...                     NaN\n",
              "16         QUEENS  ...              150 STREET\n",
              "17            NaN  ...                     NaN\n",
              "18            NaN  ...                     NaN\n",
              "19      MANHATTAN  ...            STAFF STREET\n",
              "\n",
              "[20 rows x 5 columns]"
            ]
          },
          "metadata": {
            "tags": []
          },
          "execution_count": 29
        }
      ]
    },
    {
      "cell_type": "code",
      "metadata": {
        "id": "GitroXNKi8IG",
        "colab_type": "code",
        "colab": {
          "base_uri": "https://localhost:8080/",
          "height": 119
        },
        "outputId": "0e678b14-b1a8-4a8f-f9ef-673ab916f74f"
      },
      "source": [
        "print(location_data.isnull().sum())"
      ],
      "execution_count": 30,
      "outputs": [
        {
          "output_type": "stream",
          "text": [
            "borough         39168\n",
            "location         9406\n",
            "on_street       26524\n",
            "off_street      83878\n",
            "cross_street    56118\n",
            "dtype: int64\n"
          ],
          "name": "stdout"
        }
      ]
    },
    {
      "cell_type": "code",
      "metadata": {
        "id": "54RoM9UVjCM9",
        "colab_type": "code",
        "colab": {
          "base_uri": "https://localhost:8080/",
          "height": 650
        },
        "outputId": "a4d39ca7-d236-495c-dd55-4d6c936fc94f"
      },
      "source": [
        "plot_null_correlations(location_data)"
      ],
      "execution_count": 31,
      "outputs": [
        {
          "output_type": "display_data",
          "data": {
            "image/png": "[encoded data removed]",
            "text/plain": [
              "<Figure size 1080x720 with 1 Axes>"
            ]
          },
          "metadata": {
            "tags": []
          }
        }
      ]
    },
    {
      "cell_type": "code",
      "metadata": {
        "id": "dM1dP0oKjGCy",
        "colab_type": "code",
        "colab": {
          "base_uri": "https://localhost:8080/",
          "height": 832
        },
        "outputId": "3e23e76b-ca44-47cd-e911-018879e46e83"
      },
      "source": [
        "sorted_location_data = location_data.sort_values(loc_cols)\n",
        "plot_null_matrix(sorted_location_data)"
      ],
      "execution_count": 32,
      "outputs": [
        {
          "output_type": "display_data",
          "data": {
            "image/png": "[encoded data removed]",
            "text/plain": [
              "<Figure size 1080x936 with 1 Axes>"
            ]
          },
          "metadata": {
            "tags": []
          }
        }
      ]
    },
    {
      "cell_type": "markdown",
      "metadata": {
        "id": "oQqy1_qojxVg",
        "colab_type": "text"
      },
      "source": [
        " - For rows with location values but missing values in either borough or the street name columns, we used geocoding APIs to look up the location coordinates to find the missing data.\n",
        " - For rows with values in the street name columns missing borough and/or location data, we used geocoding APIs to look up the address to find the missing data."
      ]
    },
    {
      "cell_type": "code",
      "metadata": {
        "id": "Ly1S62JFjwSB",
        "colab_type": "code",
        "colab": {}
      },
      "source": [
        "loc_cols = ['borough', 'location', 'on_street', 'off_street', 'cross_street']\n",
        "location_data = mvc_19[loc_cols]\n",
        "location_data.head(20)"
      ],
      "execution_count": 0,
      "outputs": []
    },
    {
      "cell_type": "code",
      "metadata": {
        "id": "m3W7_wAO7W8F",
        "colab_type": "code",
        "colab": {
          "base_uri": "https://localhost:8080/",
          "height": 204
        },
        "outputId": "68744c9d-5ed4-496b-fafd-49bb9f13a917"
      },
      "source": [
        "location_data_b = location_data[location_data['location'].notnull() & location_data['borough'].isnull()]\n",
        "location_data_b.sample(5)"
      ],
      "execution_count": 43,
      "outputs": [
        {
          "output_type": "execute_result",
          "data": {
            "text/html": [
              "<div>\n",
              "<style scoped>\n",
              "    .dataframe tbody tr th:only-of-type {\n",
              "        vertical-align: middle;\n",
              "    }\n",
              "\n",
              "    .dataframe tbody tr th {\n",
              "        vertical-align: top;\n",
              "    }\n",
              "\n",
              "    .dataframe thead th {\n",
              "        text-align: right;\n",
              "    }\n",
              "</style>\n",
              "<table border=\"1\" class=\"dataframe\">\n",
              "  <thead>\n",
              "    <tr style=\"text-align: right;\">\n",
              "      <th></th>\n",
              "      <th>borough</th>\n",
              "      <th>location</th>\n",
              "      <th>on_street</th>\n",
              "      <th>off_street</th>\n",
              "      <th>cross_street</th>\n",
              "    </tr>\n",
              "  </thead>\n",
              "  <tbody>\n",
              "    <tr>\n",
              "      <th>86494</th>\n",
              "      <td>NaN</td>\n",
              "      <td>POINT (-73.89338 40.8464)</td>\n",
              "      <td>EAST TREMONT AVENUE</td>\n",
              "      <td>NaN</td>\n",
              "      <td>NaN</td>\n",
              "    </tr>\n",
              "    <tr>\n",
              "      <th>55870</th>\n",
              "      <td>NaN</td>\n",
              "      <td>POINT (-73.92588 40.866024)</td>\n",
              "      <td>BROADWAY</td>\n",
              "      <td>NaN</td>\n",
              "      <td>NaN</td>\n",
              "    </tr>\n",
              "    <tr>\n",
              "      <th>7276</th>\n",
              "      <td>NaN</td>\n",
              "      <td>POINT (-73.95454 40.642887)</td>\n",
              "      <td>BEDFORD AVENUE</td>\n",
              "      <td>NaN</td>\n",
              "      <td>NaN</td>\n",
              "    </tr>\n",
              "    <tr>\n",
              "      <th>89421</th>\n",
              "      <td>NaN</td>\n",
              "      <td>POINT (-73.799866 40.75603)</td>\n",
              "      <td>167 STREET</td>\n",
              "      <td>NaN</td>\n",
              "      <td>NaN</td>\n",
              "    </tr>\n",
              "    <tr>\n",
              "      <th>95795</th>\n",
              "      <td>NaN</td>\n",
              "      <td>POINT (-73.82557 40.84211)</td>\n",
              "      <td>BRUCKNER EXPRESSWAY</td>\n",
              "      <td>NaN</td>\n",
              "      <td>NaN</td>\n",
              "    </tr>\n",
              "  </tbody>\n",
              "</table>\n",
              "</div>"
            ],
            "text/plain": [
              "      borough                     location  ... off_street cross_street\n",
              "86494     NaN    POINT (-73.89338 40.8464)  ...        NaN          NaN\n",
              "55870     NaN  POINT (-73.92588 40.866024)  ...        NaN          NaN\n",
              "7276      NaN  POINT (-73.95454 40.642887)  ...        NaN          NaN\n",
              "89421     NaN  POINT (-73.799866 40.75603)  ...        NaN          NaN\n",
              "95795     NaN   POINT (-73.82557 40.84211)  ...        NaN          NaN\n",
              "\n",
              "[5 rows x 5 columns]"
            ]
          },
          "metadata": {
            "tags": []
          },
          "execution_count": 43
        }
      ]
    },
    {
      "cell_type": "code",
      "metadata": {
        "id": "EYJ_p1i57XDh",
        "colab_type": "code",
        "colab": {
          "base_uri": "https://localhost:8080/",
          "height": 34
        },
        "outputId": "371fa860-828d-4d44-a0fb-af9cc3c553f8"
      },
      "source": [
        "location_data_b.shape"
      ],
      "execution_count": 44,
      "outputs": [
        {
          "output_type": "execute_result",
          "data": {
            "text/plain": [
              "(31843, 5)"
            ]
          },
          "metadata": {
            "tags": []
          },
          "execution_count": 44
        }
      ]
    },
    {
      "cell_type": "code",
      "metadata": {
        "id": "ErkpayFg9poF",
        "colab_type": "code",
        "colab": {}
      },
      "source": [
        ""
      ],
      "execution_count": 0,
      "outputs": []
    }
  ]
}